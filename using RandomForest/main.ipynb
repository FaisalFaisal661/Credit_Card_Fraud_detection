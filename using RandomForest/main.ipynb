{
 "cells": [
  {
   "cell_type": "code",
   "execution_count": 1,
   "id": "c12f8e5e",
   "metadata": {},
   "outputs": [],
   "source": [
    "import numpy as np\n",
    "import pandas as pd\n",
    "import matplotlib.pyplot as plt\n",
    "%matplotlib inline\n",
    "import seaborn as sns\n",
    "import pickle\n",
    "import warnings \n",
    "\n",
    "warnings. simplefilter(action = \"ignore\", category = Warning)"
   ]
  },
  {
   "cell_type": "code",
   "execution_count": 2,
   "id": "0a3c0eff",
   "metadata": {},
   "outputs": [
    {
     "data": {
      "text/html": [
       "<div>\n",
       "<style scoped>\n",
       "    .dataframe tbody tr th:only-of-type {\n",
       "        vertical-align: middle;\n",
       "    }\n",
       "\n",
       "    .dataframe tbody tr th {\n",
       "        vertical-align: top;\n",
       "    }\n",
       "\n",
       "    .dataframe thead th {\n",
       "        text-align: right;\n",
       "    }\n",
       "</style>\n",
       "<table border=\"1\" class=\"dataframe\">\n",
       "  <thead>\n",
       "    <tr style=\"text-align: right;\">\n",
       "      <th></th>\n",
       "      <th>Time</th>\n",
       "      <th>V1</th>\n",
       "      <th>V2</th>\n",
       "      <th>V3</th>\n",
       "      <th>V4</th>\n",
       "      <th>V5</th>\n",
       "      <th>V6</th>\n",
       "      <th>V7</th>\n",
       "      <th>V8</th>\n",
       "      <th>V9</th>\n",
       "      <th>...</th>\n",
       "      <th>V21</th>\n",
       "      <th>V22</th>\n",
       "      <th>V23</th>\n",
       "      <th>V24</th>\n",
       "      <th>V25</th>\n",
       "      <th>V26</th>\n",
       "      <th>V27</th>\n",
       "      <th>V28</th>\n",
       "      <th>Amount</th>\n",
       "      <th>Class</th>\n",
       "    </tr>\n",
       "  </thead>\n",
       "  <tbody>\n",
       "    <tr>\n",
       "      <th>122954</th>\n",
       "      <td>76755.0</td>\n",
       "      <td>1.436853</td>\n",
       "      <td>-0.917775</td>\n",
       "      <td>0.078092</td>\n",
       "      <td>-1.389748</td>\n",
       "      <td>-1.286173</td>\n",
       "      <td>-1.111520</td>\n",
       "      <td>-0.557917</td>\n",
       "      <td>-0.238104</td>\n",
       "      <td>-2.413720</td>\n",
       "      <td>...</td>\n",
       "      <td>-0.428159</td>\n",
       "      <td>-1.006727</td>\n",
       "      <td>0.145682</td>\n",
       "      <td>0.466701</td>\n",
       "      <td>0.261888</td>\n",
       "      <td>-0.481155</td>\n",
       "      <td>-0.007521</td>\n",
       "      <td>0.011374</td>\n",
       "      <td>40.99</td>\n",
       "      <td>0</td>\n",
       "    </tr>\n",
       "    <tr>\n",
       "      <th>250554</th>\n",
       "      <td>154967.0</td>\n",
       "      <td>1.930339</td>\n",
       "      <td>-0.152441</td>\n",
       "      <td>-0.273069</td>\n",
       "      <td>1.589904</td>\n",
       "      <td>-0.437841</td>\n",
       "      <td>-0.298996</td>\n",
       "      <td>-0.268413</td>\n",
       "      <td>0.004709</td>\n",
       "      <td>1.218086</td>\n",
       "      <td>...</td>\n",
       "      <td>-0.523282</td>\n",
       "      <td>-1.205126</td>\n",
       "      <td>0.450719</td>\n",
       "      <td>-0.105540</td>\n",
       "      <td>-0.342146</td>\n",
       "      <td>-1.100933</td>\n",
       "      <td>0.056721</td>\n",
       "      <td>-0.031779</td>\n",
       "      <td>4.94</td>\n",
       "      <td>0</td>\n",
       "    </tr>\n",
       "    <tr>\n",
       "      <th>35975</th>\n",
       "      <td>38345.0</td>\n",
       "      <td>-0.187115</td>\n",
       "      <td>0.665522</td>\n",
       "      <td>0.725133</td>\n",
       "      <td>1.362960</td>\n",
       "      <td>-0.275956</td>\n",
       "      <td>0.584166</td>\n",
       "      <td>-0.810736</td>\n",
       "      <td>-2.742715</td>\n",
       "      <td>-0.767029</td>\n",
       "      <td>...</td>\n",
       "      <td>-1.275195</td>\n",
       "      <td>0.099359</td>\n",
       "      <td>-0.233641</td>\n",
       "      <td>-0.440649</td>\n",
       "      <td>0.718448</td>\n",
       "      <td>-0.268951</td>\n",
       "      <td>0.108852</td>\n",
       "      <td>0.275729</td>\n",
       "      <td>150.00</td>\n",
       "      <td>0</td>\n",
       "    </tr>\n",
       "    <tr>\n",
       "      <th>32141</th>\n",
       "      <td>36657.0</td>\n",
       "      <td>-1.434282</td>\n",
       "      <td>-0.392867</td>\n",
       "      <td>-1.013297</td>\n",
       "      <td>-3.558139</td>\n",
       "      <td>1.961410</td>\n",
       "      <td>2.662056</td>\n",
       "      <td>-0.615023</td>\n",
       "      <td>0.861393</td>\n",
       "      <td>-2.356527</td>\n",
       "      <td>...</td>\n",
       "      <td>-0.547516</td>\n",
       "      <td>-1.267924</td>\n",
       "      <td>-0.160620</td>\n",
       "      <td>0.944138</td>\n",
       "      <td>-0.032426</td>\n",
       "      <td>-0.660199</td>\n",
       "      <td>-0.075204</td>\n",
       "      <td>-0.020349</td>\n",
       "      <td>18.39</td>\n",
       "      <td>0</td>\n",
       "    </tr>\n",
       "    <tr>\n",
       "      <th>49333</th>\n",
       "      <td>44009.0</td>\n",
       "      <td>-0.956350</td>\n",
       "      <td>-4.255127</td>\n",
       "      <td>0.248924</td>\n",
       "      <td>1.895980</td>\n",
       "      <td>-2.619044</td>\n",
       "      <td>0.732871</td>\n",
       "      <td>0.461789</td>\n",
       "      <td>-0.155647</td>\n",
       "      <td>0.161222</td>\n",
       "      <td>...</td>\n",
       "      <td>0.047522</td>\n",
       "      <td>-1.433421</td>\n",
       "      <td>-0.935952</td>\n",
       "      <td>0.457217</td>\n",
       "      <td>0.040259</td>\n",
       "      <td>-0.547200</td>\n",
       "      <td>-0.090028</td>\n",
       "      <td>0.238465</td>\n",
       "      <td>1139.50</td>\n",
       "      <td>0</td>\n",
       "    </tr>\n",
       "  </tbody>\n",
       "</table>\n",
       "<p>5 rows × 31 columns</p>\n",
       "</div>"
      ],
      "text/plain": [
       "            Time        V1        V2        V3        V4        V5        V6  \\\n",
       "122954   76755.0  1.436853 -0.917775  0.078092 -1.389748 -1.286173 -1.111520   \n",
       "250554  154967.0  1.930339 -0.152441 -0.273069  1.589904 -0.437841 -0.298996   \n",
       "35975    38345.0 -0.187115  0.665522  0.725133  1.362960 -0.275956  0.584166   \n",
       "32141    36657.0 -1.434282 -0.392867 -1.013297 -3.558139  1.961410  2.662056   \n",
       "49333    44009.0 -0.956350 -4.255127  0.248924  1.895980 -2.619044  0.732871   \n",
       "\n",
       "              V7        V8        V9  ...       V21       V22       V23  \\\n",
       "122954 -0.557917 -0.238104 -2.413720  ... -0.428159 -1.006727  0.145682   \n",
       "250554 -0.268413  0.004709  1.218086  ... -0.523282 -1.205126  0.450719   \n",
       "35975  -0.810736 -2.742715 -0.767029  ... -1.275195  0.099359 -0.233641   \n",
       "32141  -0.615023  0.861393 -2.356527  ... -0.547516 -1.267924 -0.160620   \n",
       "49333   0.461789 -0.155647  0.161222  ...  0.047522 -1.433421 -0.935952   \n",
       "\n",
       "             V24       V25       V26       V27       V28   Amount  Class  \n",
       "122954  0.466701  0.261888 -0.481155 -0.007521  0.011374    40.99      0  \n",
       "250554 -0.105540 -0.342146 -1.100933  0.056721 -0.031779     4.94      0  \n",
       "35975  -0.440649  0.718448 -0.268951  0.108852  0.275729   150.00      0  \n",
       "32141   0.944138 -0.032426 -0.660199 -0.075204 -0.020349    18.39      0  \n",
       "49333   0.457217  0.040259 -0.547200 -0.090028  0.238465  1139.50      0  \n",
       "\n",
       "[5 rows x 31 columns]"
      ]
     },
     "execution_count": 2,
     "metadata": {},
     "output_type": "execute_result"
    }
   ],
   "source": [
    "data = pd.read_csv('creditcard.csv')\n",
    "data = data.sample(frac = 0.1, random_state = 48)\n",
    "data.head()"
   ]
  },
  {
   "cell_type": "code",
   "execution_count": 3,
   "id": "22a20411",
   "metadata": {},
   "outputs": [
    {
     "data": {
      "text/plain": [
       "Time      0\n",
       "V1        0\n",
       "V2        0\n",
       "V3        0\n",
       "V4        0\n",
       "V5        0\n",
       "V6        0\n",
       "V7        0\n",
       "V8        0\n",
       "V9        0\n",
       "V10       0\n",
       "V11       0\n",
       "V12       0\n",
       "V13       0\n",
       "V14       0\n",
       "V15       0\n",
       "V16       0\n",
       "V17       0\n",
       "V18       0\n",
       "V19       0\n",
       "V20       0\n",
       "V21       0\n",
       "V22       0\n",
       "V23       0\n",
       "V24       0\n",
       "V25       0\n",
       "V26       0\n",
       "V27       0\n",
       "V28       0\n",
       "Amount    0\n",
       "Class     0\n",
       "dtype: int64"
      ]
     },
     "execution_count": 3,
     "metadata": {},
     "output_type": "execute_result"
    }
   ],
   "source": [
    "data.isnull().sum()"
   ]
  },
  {
   "cell_type": "code",
   "execution_count": 4,
   "id": "bd0d7ab3",
   "metadata": {},
   "outputs": [],
   "source": [
    "fraud = data[data.Class == 1]\n",
    "valid = data[data.Class == 0]\n",
    "fraud_transc_percentage = (len(fraud)/len(data))*100"
   ]
  },
  {
   "cell_type": "code",
   "execution_count": 5,
   "id": "abb7d9e3",
   "metadata": {
    "scrolled": true
   },
   "outputs": [
    {
     "data": {
      "image/png": "[encoded data removed]",
      "text/plain": [
       "<Figure size 720x432 with 1 Axes>"
      ]
     },
     "metadata": {
      "needs_background": "light"
     },
     "output_type": "display_data"
    }
   ],
   "source": [
    "#Ploting the difference between fraud vs valid transation\n",
    "vf = data[\"Class\"].value_counts(normalize = True)    \n",
    "fig = plt.figure(figsize=(10,6))\n",
    "sns.barplot(vf.index, vf*100).set_title(\"Percentage of Valid and Fraud Transactions\")\n",
    "plt.show()"
   ]
  },
  {
   "cell_type": "code",
   "execution_count": 6,
   "id": "55d6131e",
   "metadata": {},
   "outputs": [
    {
     "data": {
      "image/png": "[encoded data removed]",
      "text/plain": [
       "<Figure size 720x432 with 1 Axes>"
      ]
     },
     "metadata": {
      "needs_background": "light"
     },
     "output_type": "display_data"
    }
   ],
   "source": [
    "#plpoting the mometory values over time\n",
    "fig= plt.figure(figsize=(10,6))\n",
    "sns.histplot(data[\"Amount\"], bins = 40).set_title(\"Distribution of Monetory value feature\")\n",
    "plt.show()"
   ]
  },
  {
   "cell_type": "code",
   "execution_count": 7,
   "id": "5b045a3a",
   "metadata": {},
   "outputs": [
    {
     "data": {
      "image/png": "[encoded data removed]",
      "text/plain": [
       "<Figure size 720x432 with 1 Axes>"
      ]
     },
     "metadata": {
      "needs_background": "light"
     },
     "output_type": "display_data"
    }
   ],
   "source": [
    "#ploting the distribution of valid transation over time\n",
    "fig = plt.figure(figsize=(10,6))\n",
    "sns.histplot(valid[\"Time\"], bins = 40).set_title(\"Distribution of Valid transactions over Time\")\n",
    "plt.show()"
   ]
  },
  {
   "cell_type": "code",
   "execution_count": 8,
   "id": "4a1a9259",
   "metadata": {
    "scrolled": true
   },
   "outputs": [
    {
     "data": {
      "image/png": "[encoded data removed]",
      "text/plain": [
       "<Figure size 720x432 with 1 Axes>"
      ]
     },
     "metadata": {
      "needs_background": "light"
     },
     "output_type": "display_data"
    }
   ],
   "source": [
    "#ploting the distribution of fraud transation over time\n",
    "fig = plt.figure(figsize=(10,6))\n",
    "sns.histplot(fraud[\"Time\"], bins = 40).set_title(\"Distribution of Fraud transactions over Time\")\n",
    "plt.show()"
   ]
  },
  {
   "cell_type": "code",
   "execution_count": 9,
   "id": "765c5ba0",
   "metadata": {},
   "outputs": [
    {
     "data": {
      "image/png": "[encoded data removed]",
      "text/plain": [
       "<Figure size 864x648 with 2 Axes>"
      ]
     },
     "metadata": {
      "needs_background": "light"
     },
     "output_type": "display_data"
    }
   ],
   "source": [
    "# ploting the corelation matrix of the values in the dataSet\n",
    "fig =plt.figure(figsize=(12,9))\n",
    "sns.heatmap(data.corr(), cmap = sns.color_palette(\"coolwarm\", as_cmap = True)).set_title(\"Correlation Heatmap\");\n",
    "plt.show()"
   ]
  },
  {
   "cell_type": "code",
   "execution_count": 10,
   "id": "31224eca",
   "metadata": {},
   "outputs": [],
   "source": [
    "#we can notice that there are not much co-relation between any of the attributes"
   ]
  },
  {
   "cell_type": "code",
   "execution_count": 11,
   "id": "c5c3afc3",
   "metadata": {},
   "outputs": [],
   "source": [
    "from sklearn.preprocessing import StandardScaler"
   ]
  },
  {
   "cell_type": "code",
   "execution_count": 12,
   "id": "af10c163",
   "metadata": {},
   "outputs": [],
   "source": [
    "data['Normalized_amount'] = StandardScaler().fit_transform(data.Amount.values.reshape(-1,1))\n",
    "data = data.drop(['Amount'], axis = 1)"
   ]
  },
  {
   "cell_type": "code",
   "execution_count": 13,
   "id": "b58f6750",
   "metadata": {
    "scrolled": true
   },
   "outputs": [
    {
     "data": {
      "text/html": [
       "<div>\n",
       "<style scoped>\n",
       "    .dataframe tbody tr th:only-of-type {\n",
       "        vertical-align: middle;\n",
       "    }\n",
       "\n",
       "    .dataframe tbody tr th {\n",
       "        vertical-align: top;\n",
       "    }\n",
       "\n",
       "    .dataframe thead th {\n",
       "        text-align: right;\n",
       "    }\n",
       "</style>\n",
       "<table border=\"1\" class=\"dataframe\">\n",
       "  <thead>\n",
       "    <tr style=\"text-align: right;\">\n",
       "      <th></th>\n",
       "      <th>Time</th>\n",
       "      <th>V1</th>\n",
       "      <th>V2</th>\n",
       "      <th>V3</th>\n",
       "      <th>V4</th>\n",
       "      <th>V5</th>\n",
       "      <th>V6</th>\n",
       "      <th>V7</th>\n",
       "      <th>V8</th>\n",
       "      <th>V9</th>\n",
       "      <th>...</th>\n",
       "      <th>V21</th>\n",
       "      <th>V22</th>\n",
       "      <th>V23</th>\n",
       "      <th>V24</th>\n",
       "      <th>V25</th>\n",
       "      <th>V26</th>\n",
       "      <th>V27</th>\n",
       "      <th>V28</th>\n",
       "      <th>Class</th>\n",
       "      <th>Normalized_amount</th>\n",
       "    </tr>\n",
       "  </thead>\n",
       "  <tbody>\n",
       "    <tr>\n",
       "      <th>122954</th>\n",
       "      <td>76755.0</td>\n",
       "      <td>1.436853</td>\n",
       "      <td>-0.917775</td>\n",
       "      <td>0.078092</td>\n",
       "      <td>-1.389748</td>\n",
       "      <td>-1.286173</td>\n",
       "      <td>-1.111520</td>\n",
       "      <td>-0.557917</td>\n",
       "      <td>-0.238104</td>\n",
       "      <td>-2.413720</td>\n",
       "      <td>...</td>\n",
       "      <td>-0.428159</td>\n",
       "      <td>-1.006727</td>\n",
       "      <td>0.145682</td>\n",
       "      <td>0.466701</td>\n",
       "      <td>0.261888</td>\n",
       "      <td>-0.481155</td>\n",
       "      <td>-0.007521</td>\n",
       "      <td>0.011374</td>\n",
       "      <td>0</td>\n",
       "      <td>-0.203274</td>\n",
       "    </tr>\n",
       "    <tr>\n",
       "      <th>250554</th>\n",
       "      <td>154967.0</td>\n",
       "      <td>1.930339</td>\n",
       "      <td>-0.152441</td>\n",
       "      <td>-0.273069</td>\n",
       "      <td>1.589904</td>\n",
       "      <td>-0.437841</td>\n",
       "      <td>-0.298996</td>\n",
       "      <td>-0.268413</td>\n",
       "      <td>0.004709</td>\n",
       "      <td>1.218086</td>\n",
       "      <td>...</td>\n",
       "      <td>-0.523282</td>\n",
       "      <td>-1.205126</td>\n",
       "      <td>0.450719</td>\n",
       "      <td>-0.105540</td>\n",
       "      <td>-0.342146</td>\n",
       "      <td>-1.100933</td>\n",
       "      <td>0.056721</td>\n",
       "      <td>-0.031779</td>\n",
       "      <td>0</td>\n",
       "      <td>-0.357264</td>\n",
       "    </tr>\n",
       "    <tr>\n",
       "      <th>35975</th>\n",
       "      <td>38345.0</td>\n",
       "      <td>-0.187115</td>\n",
       "      <td>0.665522</td>\n",
       "      <td>0.725133</td>\n",
       "      <td>1.362960</td>\n",
       "      <td>-0.275956</td>\n",
       "      <td>0.584166</td>\n",
       "      <td>-0.810736</td>\n",
       "      <td>-2.742715</td>\n",
       "      <td>-0.767029</td>\n",
       "      <td>...</td>\n",
       "      <td>-1.275195</td>\n",
       "      <td>0.099359</td>\n",
       "      <td>-0.233641</td>\n",
       "      <td>-0.440649</td>\n",
       "      <td>0.718448</td>\n",
       "      <td>-0.268951</td>\n",
       "      <td>0.108852</td>\n",
       "      <td>0.275729</td>\n",
       "      <td>0</td>\n",
       "      <td>0.262369</td>\n",
       "    </tr>\n",
       "    <tr>\n",
       "      <th>32141</th>\n",
       "      <td>36657.0</td>\n",
       "      <td>-1.434282</td>\n",
       "      <td>-0.392867</td>\n",
       "      <td>-1.013297</td>\n",
       "      <td>-3.558139</td>\n",
       "      <td>1.961410</td>\n",
       "      <td>2.662056</td>\n",
       "      <td>-0.615023</td>\n",
       "      <td>0.861393</td>\n",
       "      <td>-2.356527</td>\n",
       "      <td>...</td>\n",
       "      <td>-0.547516</td>\n",
       "      <td>-1.267924</td>\n",
       "      <td>-0.160620</td>\n",
       "      <td>0.944138</td>\n",
       "      <td>-0.032426</td>\n",
       "      <td>-0.660199</td>\n",
       "      <td>-0.075204</td>\n",
       "      <td>-0.020349</td>\n",
       "      <td>0</td>\n",
       "      <td>-0.299812</td>\n",
       "    </tr>\n",
       "    <tr>\n",
       "      <th>49333</th>\n",
       "      <td>44009.0</td>\n",
       "      <td>-0.956350</td>\n",
       "      <td>-4.255127</td>\n",
       "      <td>0.248924</td>\n",
       "      <td>1.895980</td>\n",
       "      <td>-2.619044</td>\n",
       "      <td>0.732871</td>\n",
       "      <td>0.461789</td>\n",
       "      <td>-0.155647</td>\n",
       "      <td>0.161222</td>\n",
       "      <td>...</td>\n",
       "      <td>0.047522</td>\n",
       "      <td>-1.433421</td>\n",
       "      <td>-0.935952</td>\n",
       "      <td>0.457217</td>\n",
       "      <td>0.040259</td>\n",
       "      <td>-0.547200</td>\n",
       "      <td>-0.090028</td>\n",
       "      <td>0.238465</td>\n",
       "      <td>0</td>\n",
       "      <td>4.489083</td>\n",
       "    </tr>\n",
       "  </tbody>\n",
       "</table>\n",
       "<p>5 rows × 31 columns</p>\n",
       "</div>"
      ],
      "text/plain": [
       "            Time        V1        V2        V3        V4        V5        V6  \\\n",
       "122954   76755.0  1.436853 -0.917775  0.078092 -1.389748 -1.286173 -1.111520   \n",
       "250554  154967.0  1.930339 -0.152441 -0.273069  1.589904 -0.437841 -0.298996   \n",
       "35975    38345.0 -0.187115  0.665522  0.725133  1.362960 -0.275956  0.584166   \n",
       "32141    36657.0 -1.434282 -0.392867 -1.013297 -3.558139  1.961410  2.662056   \n",
       "49333    44009.0 -0.956350 -4.255127  0.248924  1.895980 -2.619044  0.732871   \n",
       "\n",
       "              V7        V8        V9  ...       V21       V22       V23  \\\n",
       "122954 -0.557917 -0.238104 -2.413720  ... -0.428159 -1.006727  0.145682   \n",
       "250554 -0.268413  0.004709  1.218086  ... -0.523282 -1.205126  0.450719   \n",
       "35975  -0.810736 -2.742715 -0.767029  ... -1.275195  0.099359 -0.233641   \n",
       "32141  -0.615023  0.861393 -2.356527  ... -0.547516 -1.267924 -0.160620   \n",
       "49333   0.461789 -0.155647  0.161222  ...  0.047522 -1.433421 -0.935952   \n",
       "\n",
       "             V24       V25       V26       V27       V28  Class  \\\n",
       "122954  0.466701  0.261888 -0.481155 -0.007521  0.011374      0   \n",
       "250554 -0.105540 -0.342146 -1.100933  0.056721 -0.031779      0   \n",
       "35975  -0.440649  0.718448 -0.268951  0.108852  0.275729      0   \n",
       "32141   0.944138 -0.032426 -0.660199 -0.075204 -0.020349      0   \n",
       "49333   0.457217  0.040259 -0.547200 -0.090028  0.238465      0   \n",
       "\n",
       "        Normalized_amount  \n",
       "122954          -0.203274  \n",
       "250554          -0.357264  \n",
       "35975            0.262369  \n",
       "32141           -0.299812  \n",
       "49333            4.489083  \n",
       "\n",
       "[5 rows x 31 columns]"
      ]
     },
     "execution_count": 13,
     "metadata": {},
     "output_type": "execute_result"
    }
   ],
   "source": [
    "data.head()"
   ]
  },
  {
   "cell_type": "code",
   "execution_count": 14,
   "id": "0c013f57",
   "metadata": {},
   "outputs": [],
   "source": [
    "X = data.drop(['Class'], axis = 1)\n",
    "y = data.Class"
   ]
  },
  {
   "cell_type": "code",
   "execution_count": 15,
   "id": "749a32f8",
   "metadata": {},
   "outputs": [
    {
     "data": {
      "text/plain": [
       "(28481, 30)"
      ]
     },
     "execution_count": 15,
     "metadata": {},
     "output_type": "execute_result"
    }
   ],
   "source": [
    "X.shape"
   ]
  },
  {
   "cell_type": "code",
   "execution_count": 16,
   "id": "9787732d",
   "metadata": {},
   "outputs": [],
   "source": [
    "from sklearn.model_selection import train_test_split\n",
    "X_train, X_test, y_train, y_test = train_test_split(X, y, test_size = 0.3, random_state=0)"
   ]
  },
  {
   "cell_type": "code",
   "execution_count": 17,
   "id": "ad10679c",
   "metadata": {},
   "outputs": [
    {
     "data": {
      "text/plain": [
       "((19936,), (19936,))"
      ]
     },
     "execution_count": 17,
     "metadata": {},
     "output_type": "execute_result"
    }
   ],
   "source": [
    "y_train.shape,y_train.shape"
   ]
  },
  {
   "cell_type": "code",
   "execution_count": 18,
   "id": "f90cb12e",
   "metadata": {},
   "outputs": [
    {
     "data": {
      "text/plain": [
       "(8545,)"
      ]
     },
     "execution_count": 18,
     "metadata": {},
     "output_type": "execute_result"
    }
   ],
   "source": [
    "y_test.shape"
   ]
  },
  {
   "cell_type": "code",
   "execution_count": 19,
   "id": "e0524f96",
   "metadata": {},
   "outputs": [],
   "source": [
    "from sklearn.ensemble import RandomForestClassifier"
   ]
  },
  {
   "cell_type": "code",
   "execution_count": 20,
   "id": "c3098493",
   "metadata": {},
   "outputs": [],
   "source": [
    "random_forest = RandomForestClassifier()"
   ]
  },
  {
   "cell_type": "code",
   "execution_count": 21,
   "id": "adb77652",
   "metadata": {},
   "outputs": [
    {
     "data": {
      "text/html": [
       "<style>#sk-container-id-1 {color: black;background-color: white;}#sk-container-id-1 pre{padding: 0;}#sk-container-id-1 div.sk-toggleable {background-color: white;}#sk-container-id-1 label.sk-toggleable__label {cursor: pointer;display: block;width: 100%;margin-bottom: 0;padding: 0.3em;box-sizing: border-box;text-align: center;}#sk-container-id-1 label.sk-toggleable__label-arrow:before {content: \"▸\";float: left;margin-right: 0.25em;color: #696969;}#sk-container-id-1 label.sk-toggleable__label-arrow:hover:before {color: black;}#sk-container-id-1 div.sk-estimator:hover label.sk-toggleable__label-arrow:before {color: black;}#sk-container-id-1 div.sk-toggleable__content {max-height: 0;max-width: 0;overflow: hidden;text-align: left;background-color: #f0f8ff;}#sk-container-id-1 div.sk-toggleable__content pre {margin: 0.2em;color: black;border-radius: 0.25em;background-color: #f0f8ff;}#sk-container-id-1 input.sk-toggleable__control:checked~div.sk-toggleable__content {max-height: 200px;max-width: 100%;overflow: auto;}#sk-container-id-1 input.sk-toggleable__control:checked~label.sk-toggleable__label-arrow:before {content: \"▾\";}#sk-container-id-1 div.sk-estimator input.sk-toggleable__control:checked~label.sk-toggleable__label {background-color: #d4ebff;}#sk-container-id-1 div.sk-label input.sk-toggleable__control:checked~label.sk-toggleable__label {background-color: #d4ebff;}#sk-container-id-1 input.sk-hidden--visually {border: 0;clip: rect(1px 1px 1px 1px);clip: rect(1px, 1px, 1px, 1px);height: 1px;margin: -1px;overflow: hidden;padding: 0;position: absolute;width: 1px;}#sk-container-id-1 div.sk-estimator {font-family: monospace;background-color: #f0f8ff;border: 1px dotted black;border-radius: 0.25em;box-sizing: border-box;margin-bottom: 0.5em;}#sk-container-id-1 div.sk-estimator:hover {background-color: #d4ebff;}#sk-container-id-1 div.sk-parallel-item::after {content: \"\";width: 100%;border-bottom: 1px solid gray;flex-grow: 1;}#sk-container-id-1 div.sk-label:hover label.sk-toggleable__label {background-color: #d4ebff;}#sk-container-id-1 div.sk-serial::before {content: \"\";position: absolute;border-left: 1px solid gray;box-sizing: border-box;top: 0;bottom: 0;left: 50%;z-index: 0;}#sk-container-id-1 div.sk-serial {display: flex;flex-direction: column;align-items: center;background-color: white;padding-right: 0.2em;padding-left: 0.2em;position: relative;}#sk-container-id-1 div.sk-item {position: relative;z-index: 1;}#sk-container-id-1 div.sk-parallel {display: flex;align-items: stretch;justify-content: center;background-color: white;position: relative;}#sk-container-id-1 div.sk-item::before, #sk-container-id-1 div.sk-parallel-item::before {content: \"\";position: absolute;border-left: 1px solid gray;box-sizing: border-box;top: 0;bottom: 0;left: 50%;z-index: -1;}#sk-container-id-1 div.sk-parallel-item {display: flex;flex-direction: column;z-index: 1;position: relative;background-color: white;}#sk-container-id-1 div.sk-parallel-item:first-child::after {align-self: flex-end;width: 50%;}#sk-container-id-1 div.sk-parallel-item:last-child::after {align-self: flex-start;width: 50%;}#sk-container-id-1 div.sk-parallel-item:only-child::after {width: 0;}#sk-container-id-1 div.sk-dashed-wrapped {border: 1px dashed gray;margin: 0 0.4em 0.5em 0.4em;box-sizing: border-box;padding-bottom: 0.4em;background-color: white;}#sk-container-id-1 div.sk-label label {font-family: monospace;font-weight: bold;display: inline-block;line-height: 1.2em;}#sk-container-id-1 div.sk-label-container {text-align: center;}#sk-container-id-1 div.sk-container {/* jupyter's `normalize.less` sets `[hidden] { display: none; }` but bootstrap.min.css set `[hidden] { display: none !important; }` so we also need the `!important` here to be able to override the default hidden behavior on the sphinx rendered scikit-learn.org. See: https://github.com/scikit-learn/scikit-learn/issues/21755 */display: inline-block !important;position: relative;}#sk-container-id-1 div.sk-text-repr-fallback {display: none;}</style><div id=\"sk-container-id-1\" class=\"sk-top-container\"><div class=\"sk-text-repr-fallback\"><pre>RandomForestClassifier()</pre><b>In a Jupyter environment, please rerun this cell to show the HTML representation or trust the notebook. <br />On GitHub, the HTML representation is unable to render, please try loading this page with nbviewer.org.</b></div><div class=\"sk-container\" hidden><div class=\"sk-item\"><div class=\"sk-estimator sk-toggleable\"><input class=\"sk-toggleable__control sk-hidden--visually\" id=\"sk-estimator-id-1\" type=\"checkbox\" checked><label for=\"sk-estimator-id-1\" class=\"sk-toggleable__label sk-toggleable__label-arrow\">RandomForestClassifier</label><div class=\"sk-toggleable__content\"><pre>RandomForestClassifier()</pre></div></div></div></div></div>"
      ],
      "text/plain": [
       "RandomForestClassifier()"
      ]
     },
     "execution_count": 21,
     "metadata": {},
     "output_type": "execute_result"
    }
   ],
   "source": [
    "random_forest.fit(X_train, y_train.values.ravel())"
   ]
  },
  {
   "cell_type": "code",
   "execution_count": 22,
   "id": "159d2c73",
   "metadata": {},
   "outputs": [],
   "source": [
    "y_pred = random_forest.predict(X_test)"
   ]
  },
  {
   "cell_type": "code",
   "execution_count": 28,
   "id": "112761da",
   "metadata": {},
   "outputs": [
    {
     "name": "stdout",
     "output_type": "stream",
     "text": [
      "99.91808074897601\n"
     ]
    }
   ],
   "source": [
    "score = random_forest.score(X_test,y_test)\n",
    "print(score*100)"
   ]
  },
  {
   "cell_type": "code",
   "execution_count": 24,
   "id": "e0aa8414",
   "metadata": {},
   "outputs": [],
   "source": [
    "pickle.dump(random_forest,open('random_forest.plk','wb'))"
   ]
  },
  {
   "cell_type": "code",
   "execution_count": 25,
   "id": "fa118ce7",
   "metadata": {},
   "outputs": [],
   "source": [
    "from sklearn.metrics import confusion_matrix,accuracy_score"
   ]
  },
  {
   "cell_type": "code",
   "execution_count": 26,
   "id": "03f68fea",
   "metadata": {},
   "outputs": [],
   "source": [
    "def compute_performance(model, X_train, y_train, X_test, y_test):\n",
    "   model.fit(X_train, y_train)\n",
    "   Y_pred = model.predict(X_test)\n",
    "   \n",
    "  \n",
    "   \n",
    "   accuracy = random_forest.score(X_test,y_test)\n",
    "   'Accuracy: ', accuracy\n",
    "   \n",
    "   \"Confusion Matrix: \"\n",
    "   cm = confusion_matrix(y_test, y_pred)\n",
    "   \n",
    "   group_names = ['True Neg','True Pos','False Neg','False Pos']\n",
    "   group_counts = [\"{0:0.0f}\".format(value) for value in\n",
    "                cm.flatten()]\n",
    "   group_percentages = ['{0:.2%}'.format(value) for value in\n",
    "                     cm.flatten()/np.sum(cm)]\n",
    "   labels = [f\"{v1}\\n{v2}\\n{v3}\" for v1, v2, v3 in\n",
    "          zip(group_names,group_counts,group_percentages)]\n",
    "   labels = np.asarray(labels).reshape(2,2)\n",
    "   \n",
    "   fig = plt.figure(figsize = (13,10))\n",
    "   sns.heatmap(cm, annot=labels, fmt=\"\", cmap='Reds')\n",
    "   plt.show()"
   ]
  },
  {
   "cell_type": "code",
   "execution_count": 27,
   "id": "39adba37",
   "metadata": {},
   "outputs": [
    {
     "data": {
      "image/png": "[encoded data removed]",
      "text/plain": [
       "<Figure size 936x720 with 2 Axes>"
      ]
     },
     "metadata": {
      "needs_background": "light"
     },
     "output_type": "display_data"
    }
   ],
   "source": [
    "compute_performance(random_forest, X_train, y_train, X_test, y_test)"
   ]
  },
  {
   "cell_type": "code",
   "execution_count": null,
   "id": "35f3ed7f",
   "metadata": {},
   "outputs": [],
   "source": []
  }
 ],
 "metadata": {
  "kernelspec": {
   "display_name": "Python 3 (ipykernel)",
   "language": "python",
   "name": "python3"
  },
  "language_info": {
   "codemirror_mode": {
    "name": "ipython",
    "version": 3
   },
   "file_extension": ".py",
   "mimetype": "text/x-python",
   "name": "python",
   "nbconvert_exporter": "python",
   "pygments_lexer": "ipython3",
   "version": "3.10.4"
  }
 },
 "nbformat": 4,
 "nbformat_minor": 5
}
